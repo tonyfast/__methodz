{
 "cells": [
  {
   "cell_type": "code",
   "execution_count": 1,
   "metadata": {},
   "outputs": [
    {
     "data": {
      "text/markdown": [
       "> For example, a\n",
       "stack of elements is a common abstract data type used in computing. We would not\n",
       "think ‘to add’ two stacks as we would two integers. An algorithm is an abstraction\n",
       "of a step-by-step procedure for taking input and producing some desired output.\n",
       "What does it mean ‘to interleave’ two algorithms, perhaps for efficient parallel\n",
       "processing?\n",
       "\n",
       "https://www.cs.cmu.edu/~wing/publications/Wing08a.pdf"
      ],
      "text/plain": [
       "<IPython.core.display.Markdown object>"
      ]
     },
     "metadata": {},
     "output_type": "display_data"
    }
   ],
   "source": [
    "> For example, a\n",
    "stack of elements is a common abstract data type used in computing. We would not\n",
    "think ‘to add’ two stacks as we would two integers. An algorithm is an abstraction\n",
    "of a step-by-step procedure for taking input and producing some desired output.\n",
    "What does it mean ‘to interleave’ two algorithms, perhaps for efficient parallel\n",
    "processing?\n",
    "\n",
    "https://www.cs.cmu.edu/~wing/publications/Wing08a.pdf"
   ]
  },
  {
   "cell_type": "code",
   "execution_count": 2,
   "metadata": {},
   "outputs": [
    {
     "data": {
      "text/markdown": [
       "# Symbollic shapes \n",
       "\n",
       "Making a quick DSL for working with shapes interactively.\n",
       "\n",
       "    from methodz import method\n",
       "    import sympy, shapely, ipywidgets\n",
       "    sympy.init_printing()\n",
       "    from shapely.geometry import *\n",
       "    from shapely.affinity import *"
      ],
      "text/plain": [
       "<IPython.core.display.Markdown object>"
      ]
     },
     "metadata": {},
     "output_type": "display_data"
    }
   ],
   "source": [
    "# Symbollic shapes \n",
    "\n",
    "Making a quick DSL for working with shapes interactively.\n",
    "\n",
    "    from methodz import method\n",
    "    import sympy, shapely, ipywidgets\n",
    "    sympy.init_printing()\n",
    "    from shapely.geometry import *\n",
    "    from shapely.affinity import *"
   ]
  },
  {
   "cell_type": "code",
   "execution_count": 3,
   "metadata": {},
   "outputs": [
    {
     "data": {
      "text/markdown": [
       "    BaseGeo, Number, Nah = shapely.geometry.base.BaseGeometry, __import__('numbers').Number, type(None)"
      ],
      "text/plain": [
       "<IPython.core.display.Markdown object>"
      ]
     },
     "metadata": {},
     "output_type": "display_data"
    }
   ],
   "source": [
    "    BaseGeo, Number, Nah = shapely.geometry.base.BaseGeometry, __import__('numbers').Number, type(None)"
   ]
  },
  {
   "cell_type": "code",
   "execution_count": 4,
   "metadata": {},
   "outputs": [
    {
     "data": {
      "text/markdown": [
       "* `hvplot` layout composition.\n",
       "    \n",
       "        import hvplot, poser, wtypes\n",
       "        \n",
       "* `poser` function composition\n",
       "    \n",
       "        (poser.λ.range(1, 2) * (\n",
       "            poser.λ\n",
       "            + \"https://api.github.com/users/tonyfast/gists?page={}\".format\n",
       "            + 'requests.get'\n",
       "            +  poser.Λ.json()\n",
       "            + 'pandas.DataFrame'\n",
       "        ) + poser.λ['pandas.concat'])+ ...\n",
       "\n",
       "* `wtypes` function composition\n",
       "\n",
       "        >>> wtypes.Dict[{'a': wtypes.Email, 'b': (0 < wtypes.Integer) < 100}]._schema.toDict()\n",
       "        {'type': 'object', 'properties': {'a': {'type': 'string', 'format': 'email'}, 'b': {'type': 'integer', 'exclusiveMinimum': 0, 'exclusiveMaximum': 100}}}"
      ],
      "text/plain": [
       "<IPython.core.display.Markdown object>"
      ]
     },
     "metadata": {},
     "output_type": "display_data"
    }
   ],
   "source": [
    "* `hvplot` layout composition.\n",
    "    \n",
    "        import hvplot, poser, wtypes\n",
    "        \n",
    "* `poser` function composition\n",
    "    \n",
    "        (poser.λ.range(1, 2) * (\n",
    "            poser.λ\n",
    "            + \"https://api.github.com/users/tonyfast/gists?page={}\".format\n",
    "            + 'requests.get'\n",
    "            +  poser.Λ.json()\n",
    "            + 'pandas.DataFrame'\n",
    "        ) + poser.λ['pandas.concat'])+ ...\n",
    "\n",
    "* `wtypes` function composition\n",
    "\n",
    "        >>> wtypes.Dict[{'a': wtypes.Email, 'b': (0 < wtypes.Integer) < 100}]._schema.toDict()\n",
    "        {'type': 'object', 'properties': {'a': {'type': 'string', 'format': 'email'}, 'b': {'type': 'integer', 'exclusiveMinimum': 0, 'exclusiveMaximum': 100}}}"
   ]
  },
  {
   "cell_type": "markdown",
   "metadata": {},
   "source": [
    "    import pandas, hvplot.pandas\n",
    "\n",
    "    (\n",
    "        (\n",
    "            pandas.util.testing.makeDataFrame().hvplot(width=400)\n",
    "            * pandas.util.testing.makeDataFrame().hvplot(width=400)\n",
    "        ) * pandas.util.testing.makeDataFrame().hvplot(width=400)\n",
    "    )"
   ]
  },
  {
   "cell_type": "code",
   "execution_count": 6,
   "metadata": {},
   "outputs": [
    {
     "data": {
      "text/markdown": [
       "    @method\n",
       "    class __:\n",
       "        def __pow__(a: BaseGeo, b: Number):\n",
       "            return rotate(a, b)\n",
       "        def __add__(a: BaseGeo, b: BaseGeo):\n",
       "            return BaseGeo.union(a, b)\n",
       "        def __mul__(a: BaseGeo, b: Number):\n",
       "            return scale(a, b, b)\n",
       "        def __rshift__(a: BaseGeo, b: BaseGeo):\n",
       "            return MultiPolygon([b, a])\n",
       "        def __lshift__(a: BaseGeo, b: BaseGeo):\n",
       "            return MultiPolygon([a,b])\n",
       "        def __abs__(a: BaseGeo):\n",
       "            return  translate(a, -a.centroid.x, -a.centroid.y)\n",
       "    @method\n",
       "    def __mul__(a: BaseGeo, b: list):\n",
       "        b = b + [0]*(6-len(b))\n",
       "        return affine_transform(a, b)\n",
       "        \n",
       "    @method\n",
       "    def __add__(a: BaseGeo, b: tuple):\n",
       "        return translate(a, *b)\n",
       "    \n",
       "    @method\n",
       "    def __sub__(a: BaseGeo, b: tuple): \n",
       "        return translate(a, *map((-1).__mul__, b))\n",
       "    @method\n",
       "    def __round__(a: BaseGeo): return  a.buffer(1)\n",
       "    \n",
       "    @method\n",
       "    def __round__(a: BaseGeo, b: Number): return  a.buffer(b)"
      ],
      "text/plain": [
       "<IPython.core.display.Markdown object>"
      ]
     },
     "metadata": {},
     "output_type": "display_data"
    }
   ],
   "source": [
    "    @method\n",
    "    class __:\n",
    "        def __pow__(a: BaseGeo, b: Number):\n",
    "            return rotate(a, b)\n",
    "        def __add__(a: BaseGeo, b: BaseGeo):\n",
    "            return BaseGeo.union(a, b)\n",
    "        def __mul__(a: BaseGeo, b: Number):\n",
    "            return scale(a, b, b)\n",
    "        def __rshift__(a: BaseGeo, b: BaseGeo):\n",
    "            return MultiPolygon([b, a])\n",
    "        def __lshift__(a: BaseGeo, b: BaseGeo):\n",
    "            return MultiPolygon([a,b])\n",
    "        def __abs__(a: BaseGeo):\n",
    "            return  translate(a, -a.centroid.x, -a.centroid.y)\n",
    "    @method\n",
    "    def __mul__(a: BaseGeo, b: list):\n",
    "        b = b + [0]*(6-len(b))\n",
    "        return affine_transform(a, b)\n",
    "        \n",
    "    @method\n",
    "    def __add__(a: BaseGeo, b: tuple):\n",
    "        return translate(a, *b)\n",
    "    \n",
    "    @method\n",
    "    def __sub__(a: BaseGeo, b: tuple): \n",
    "        return translate(a, *map((-1).__mul__, b))\n",
    "    @method\n",
    "    def __round__(a: BaseGeo): return  a.buffer(1)\n",
    "    \n",
    "    @method\n",
    "    def __round__(a: BaseGeo, b: Number): return  a.buffer(b)\n"
   ]
  },
  {
   "cell_type": "code",
   "execution_count": 7,
   "metadata": {},
   "outputs": [
    {
     "data": {
      "text/markdown": [
       "    p = Polygon([(0,0), (0,1), (1,0)])"
      ],
      "text/plain": [
       "<IPython.core.display.Markdown object>"
      ]
     },
     "metadata": {},
     "output_type": "display_data"
    }
   ],
   "source": [
    "    p = Polygon([(0,0), (0,1), (1,0)])"
   ]
  },
  {
   "cell_type": "code",
   "execution_count": 8,
   "metadata": {},
   "outputs": [
    {
     "data": {
      "text/markdown": [
       "    s = abs(p + p**180)"
      ],
      "text/plain": [
       "<IPython.core.display.Markdown object>"
      ]
     },
     "metadata": {},
     "output_type": "display_data"
    }
   ],
   "source": [
    "    s = abs(p + p**180)"
   ]
  },
  {
   "cell_type": "code",
   "execution_count": 9,
   "metadata": {},
   "outputs": [
    {
     "data": {
      "application/vnd.jupyter.widget-view+json": {
       "model_id": "664d61ae3702423f90d030ca935af5f3",
       "version_major": 2,
       "version_minor": 0
      },
      "text/plain": [
       "interactive(children=(FloatSlider(value=0.1, description='i', max=1.1, min=-1.1), Output()), _dom_classes=('wi…"
      ]
     },
     "metadata": {},
     "output_type": "display_data"
    }
   ],
   "source": [
    "    \n",
    "    @ipywidgets.interact\n",
    "    def deform(i:(-1.1, 1.1)=.1):\n",
    "        display((s * [1,i,i,1]) >> s)"
   ]
  },
  {
   "cell_type": "code",
   "execution_count": 10,
   "metadata": {},
   "outputs": [
    {
     "data": {
      "application/vnd.jupyter.widget-view+json": {
       "model_id": "612fad778f904e6699994ebf4ced6c73",
       "version_major": 2,
       "version_minor": 0
      },
      "text/plain": [
       "interactive(children=(FloatSlider(value=0.1, description='i', max=3.141592653589793, min=-3.141592653589793), …"
      ]
     },
     "metadata": {},
     "output_type": "display_data"
    }
   ],
   "source": [
    "    \n",
    "    @ipywidgets.interact\n",
    "    def rot(i:(-float(sympy.pi), float(sympy.pi))=.1):\n",
    "\n",
    "        display((\n",
    "            s * [1,-i,i,1]) >> s\n",
    "        )"
   ]
  },
  {
   "cell_type": "code",
   "execution_count": 11,
   "metadata": {},
   "outputs": [
    {
     "data": {
      "text/markdown": [
       "    import scipy.spatial, numpy\n",
       "\n",
       "Make some `triangles`.\n",
       "    \n",
       "    triangles = scipy.spatial.Delaunay(numpy.random.randn(100, 2))"
      ],
      "text/plain": [
       "<IPython.core.display.Markdown object>"
      ]
     },
     "metadata": {},
     "output_type": "display_data"
    }
   ],
   "source": [
    "    import scipy.spatial, numpy\n",
    "\n",
    "Make some `triangles`.\n",
    "    \n",
    "    triangles = scipy.spatial.Delaunay(numpy.random.randn(100, 2))"
   ]
  },
  {
   "cell_type": "code",
   "execution_count": 12,
   "metadata": {},
   "outputs": [
    {
     "data": {
      "text/markdown": [
       "    delaunay = MultiPolygon([Polygon(triangles.points[list(x),:]) for x in triangles.vertices])\n",
       "    delaunay = MultiPolygon([Polygon(triangles.points[list(x),:]) for x in triangles.vertices])"
      ],
      "text/plain": [
       "<IPython.core.display.Markdown object>"
      ]
     },
     "metadata": {},
     "output_type": "display_data"
    }
   ],
   "source": [
    "    delaunay = MultiPolygon([Polygon(triangles.points[list(x),:]) for x in triangles.vertices])\n",
    "    delaunay = MultiPolygon([Polygon(triangles.points[list(x),:]) for x in triangles.vertices])"
   ]
  },
  {
   "cell_type": "code",
   "execution_count": 13,
   "metadata": {},
   "outputs": [
    {
     "data": {
      "text/markdown": [
       "    voronoi = scipy.spatial.Voronoi(triangles.points)\n",
       "    voronoi = MultiPolygon([Polygon(voronoi.vertices[x,:]) for x in voronoi.regions if len(x) > 3])"
      ],
      "text/plain": [
       "<IPython.core.display.Markdown object>"
      ]
     },
     "metadata": {},
     "output_type": "display_data"
    }
   ],
   "source": [
    "    voronoi = scipy.spatial.Voronoi(triangles.points)\n",
    "    voronoi = MultiPolygon([Polygon(voronoi.vertices[x,:]) for x in voronoi.regions if len(x) > 3])"
   ]
  },
  {
   "cell_type": "code",
   "execution_count": 15,
   "metadata": {},
   "outputs": [
    {
     "data": {
      "image/svg+xml": [
       "<svg xmlns=\"http://www.w3.org/2000/svg\" xmlns:xlink=\"http://www.w3.org/1999/xlink\" width=\"300\" height=\"300\" viewBox=\"-32641.336274275724 -27033.893340311522 66105.98354807743 56563.45755367278\" preserveAspectRatio=\"xMinYMin meet\"><g transform=\"matrix(1,0,0,-1,0,2495.6708730497376)\"><g><path fill-rule=\"evenodd\" fill=\"#ff3333\" stroke=\"#555555\" stroke-width=\"440.7065569871829\" opacity=\"0.6\" d=\"M -15066.21452421584,26430.486431546015 L -8683.928073671445,23296.442020137118 L 14785.176424949914,27081.194452321353 L -15066.21452421584,26430.486431546015 z\" /><path fill-rule=\"evenodd\" fill=\"#ff3333\" stroke=\"#555555\" stroke-width=\"440.7065569871829\" opacity=\"0.6\" d=\"M 27866.763175776014,3270.926271004664 L 24319.975448754933,2077.5805747876093 L 27387.956921482688,-11744.893314657858 L 27866.763175776014,3270.926271004664 z\" /><path fill-rule=\"evenodd\" fill=\"#ff3333\" stroke=\"#555555\" stroke-width=\"440.7065569871829\" opacity=\"0.6\" d=\"M 31016.277512761815,12598.76108381442 L 27866.763175776014,3270.926271004664 L 27387.956921482688,-11744.893314657858 L 31016.277512761815,12598.76108381442 z\" /><path fill-rule=\"evenodd\" fill=\"#ff3333\" stroke=\"#555555\" stroke-width=\"440.7065569871829\" opacity=\"0.6\" d=\"M 27866.763175776014,3270.926271004664 L 31016.277512761815,12598.76108381442 L 24319.975448754933,2077.5805747876093 L 27866.763175776014,3270.926271004664 z\" /><path fill-rule=\"evenodd\" fill=\"#ff3333\" stroke=\"#555555\" stroke-width=\"440.7065569871829\" opacity=\"0.6\" d=\"M 15316.656192481734,-13408.622198419167 L 3077.588023623315,-20150.19720539014 L 27387.956921482688,-11744.893314657858 L 15316.656192481734,-13408.622198419167 z\" /><path fill-rule=\"evenodd\" fill=\"#ff3333\" stroke=\"#555555\" stroke-width=\"440.7065569871829\" opacity=\"0.6\" d=\"M 3077.588023623315,-20150.19720539014 L -8489.333866518933,-20099.57210884557 L -17759.945130000982,-24585.523579271616 L 3077.588023623315,-20150.19720539014 z\" /><path fill-rule=\"evenodd\" fill=\"#ff3333\" stroke=\"#555555\" stroke-width=\"440.7065569871829\" opacity=\"0.6\" d=\"M -8683.928073671445,23296.442020137118 L 5093.912078469788,20829.421958214625 L 14785.176424949914,27081.194452321353 L -8683.928073671445,23296.442020137118 z\" /><path fill-rule=\"evenodd\" fill=\"#ff3333\" stroke=\"#555555\" stroke-width=\"440.7065569871829\" opacity=\"0.6\" d=\"M 5093.912078469788,20829.421958214625 L -8683.928073671445,23296.442020137118 L 1528.4433135604377,19649.102619449834 L 5093.912078469788,20829.421958214625 z\" /><path fill-rule=\"evenodd\" fill=\"#ff3333\" stroke=\"#555555\" stroke-width=\"440.7065569871829\" opacity=\"0.6\" d=\"M 18915.370799385648,20315.245417331964 L 31016.277512761815,12598.76108381442 L 14785.176424949914,27081.194452321353 L 18915.370799385648,20315.245417331964 z\" /><path fill-rule=\"evenodd\" fill=\"#ff3333\" stroke=\"#555555\" stroke-width=\"440.7065569871829\" opacity=\"0.6\" d=\"M -30192.966513235817,-1483.298882695064 L -14660.182082609132,4677.947276132275 L -15066.21452421584,26430.486431546015 L -30192.966513235817,-1483.298882695064 z\" /><path fill-rule=\"evenodd\" fill=\"#ff3333\" stroke=\"#555555\" stroke-width=\"440.7065569871829\" opacity=\"0.6\" d=\"M -14660.182082609132,4677.947276132275 L -30192.966513235817,-1483.298882695064 L -15177.184182412693,2.3554890918729843 L -14660.182082609132,4677.947276132275 z\" /><path fill-rule=\"evenodd\" fill=\"#ff3333\" stroke=\"#555555\" stroke-width=\"440.7065569871829\" opacity=\"0.6\" d=\"M 16282.179637931318,-11998.112541456685 L 15316.656192481734,-13408.622198419167 L 27387.956921482688,-11744.893314657858 L 16282.179637931318,-11998.112541456685 z\" /><path fill-rule=\"evenodd\" fill=\"#ff3333\" stroke=\"#555555\" stroke-width=\"440.7065569871829\" opacity=\"0.6\" d=\"M 15316.656192481734,-13408.622198419167 L 16282.179637931318,-11998.112541456685 L 13602.748316420731,-8561.739123241165 L 15316.656192481734,-13408.622198419167 z\" /><path fill-rule=\"evenodd\" fill=\"#ff3333\" stroke=\"#555555\" stroke-width=\"440.7065569871829\" opacity=\"0.6\" d=\"M 14063.552369840261,1356.3102700620657 L 16083.493052913691,-3488.9373544803857 L 24319.975448754933,2077.5805747876093 L 14063.552369840261,1356.3102700620657 z\" /><path fill-rule=\"evenodd\" fill=\"#ff3333\" stroke=\"#555555\" stroke-width=\"440.7065569871829\" opacity=\"0.6\" d=\"M 15316.656192481734,-13408.622198419167 L 6740.386080350194,-11874.323137499914 L 3077.588023623315,-20150.19720539014 L 15316.656192481734,-13408.622198419167 z\" /><path fill-rule=\"evenodd\" fill=\"#ff3333\" stroke=\"#555555\" stroke-width=\"440.7065569871829\" opacity=\"0.6\" d=\"M -8489.333866518933,-20099.57210884557 L -11946.39257132755,-19084.82202401754 L -17759.945130000982,-24585.523579271616 L -8489.333866518933,-20099.57210884557 z\" /><path fill-rule=\"evenodd\" fill=\"#ff3333\" stroke=\"#555555\" stroke-width=\"440.7065569871829\" opacity=\"0.6\" d=\"M -11946.39257132755,-19084.82202401754 L -30192.966513235817,-1483.298882695064 L -17759.945130000982,-24585.523579271616 L -11946.39257132755,-19084.82202401754 z\" /><path fill-rule=\"evenodd\" fill=\"#ff3333\" stroke=\"#555555\" stroke-width=\"440.7065569871829\" opacity=\"0.6\" d=\"M -11946.39257132755,-19084.82202401754 L -5062.846817360966,-15046.477751449253 L -4921.7236305923,-9305.599380978161 L -11946.39257132755,-19084.82202401754 z\" /><path fill-rule=\"evenodd\" fill=\"#ff3333\" stroke=\"#555555\" stroke-width=\"440.7065569871829\" opacity=\"0.6\" d=\"M -5062.846817360966,-15046.477751449253 L -11946.39257132755,-19084.82202401754 L -8489.333866518933,-20099.57210884557 L -5062.846817360966,-15046.477751449253 z\" /><path fill-rule=\"evenodd\" fill=\"#ff3333\" stroke=\"#555555\" stroke-width=\"440.7065569871829\" opacity=\"0.6\" d=\"M -5062.846817360966,-15046.477751449253 L -8489.333866518933,-20099.57210884557 L 3077.588023623315,-20150.19720539014 L -5062.846817360966,-15046.477751449253 z\" /><path fill-rule=\"evenodd\" fill=\"#ff3333\" stroke=\"#555555\" stroke-width=\"440.7065569871829\" opacity=\"0.6\" d=\"M 13224.42782839363,22492.745179100715 L 18915.370799385648,20315.245417331964 L 14785.176424949914,27081.194452321353 L 13224.42782839363,22492.745179100715 z\" /><path fill-rule=\"evenodd\" fill=\"#ff3333\" stroke=\"#555555\" stroke-width=\"440.7065569871829\" opacity=\"0.6\" d=\"M 18915.370799385648,20315.245417331964 L 13224.42782839363,22492.745179100715 L 9357.439220151002,15228.883305672249 L 18915.370799385648,20315.245417331964 z\" /><path fill-rule=\"evenodd\" fill=\"#ff3333\" stroke=\"#555555\" stroke-width=\"440.7065569871829\" opacity=\"0.6\" d=\"M 15979.636535448226,7460.509232741003 L 18915.370799385648,20315.245417331964 L 9357.439220151002,15228.883305672249 L 15979.636535448226,7460.509232741003 z\" /><path fill-rule=\"evenodd\" fill=\"#ff3333\" stroke=\"#555555\" stroke-width=\"440.7065569871829\" opacity=\"0.6\" d=\"M 15979.636535448226,7460.509232741003 L 14063.552369840261,1356.3102700620657 L 24319.975448754933,2077.5805747876093 L 15979.636535448226,7460.509232741003 z\" /><path fill-rule=\"evenodd\" fill=\"#ff3333\" stroke=\"#555555\" stroke-width=\"440.7065569871829\" opacity=\"0.6\" d=\"M 31016.277512761815,12598.76108381442 L 15979.636535448226,7460.509232741003 L 24319.975448754933,2077.5805747876093 L 31016.277512761815,12598.76108381442 z\" /><path fill-rule=\"evenodd\" fill=\"#ff3333\" stroke=\"#555555\" stroke-width=\"440.7065569871829\" opacity=\"0.6\" d=\"M 18915.370799385648,20315.245417331964 L 15979.636535448226,7460.509232741003 L 31016.277512761815,12598.76108381442 L 18915.370799385648,20315.245417331964 z\" /><path fill-rule=\"evenodd\" fill=\"#ff3333\" stroke=\"#555555\" stroke-width=\"440.7065569871829\" opacity=\"0.6\" d=\"M -2226.348730527413,-10001.589426947943 L -1725.52524886507,-6860.891769662348 L -4921.7236305923,-9305.599380978161 L -2226.348730527413,-10001.589426947943 z\" /><path fill-rule=\"evenodd\" fill=\"#ff3333\" stroke=\"#555555\" stroke-width=\"440.7065569871829\" opacity=\"0.6\" d=\"M 838.1449957106852,11911.556480527312 L -1823.5920745937492,8454.162372990355 L 1729.459133897577,11219.29290226274 L 838.1449957106852,11911.556480527312 z\" /><path fill-rule=\"evenodd\" fill=\"#ff3333\" stroke=\"#555555\" stroke-width=\"440.7065569871829\" opacity=\"0.6\" d=\"M 16282.179637931318,-11998.112541456685 L 14720.583220963934,-7732.586092188748 L 13602.748316420731,-8561.739123241165 L 16282.179637931318,-11998.112541456685 z\" /><path fill-rule=\"evenodd\" fill=\"#ff3333\" stroke=\"#555555\" stroke-width=\"440.7065569871829\" opacity=\"0.6\" d=\"M 24319.975448754933,2077.5805747876093 L 16416.24377738408,-7364.860998759542 L 27387.956921482688,-11744.893314657858 L 24319.975448754933,2077.5805747876093 z\" /><path fill-rule=\"evenodd\" fill=\"#ff3333\" stroke=\"#555555\" stroke-width=\"440.7065569871829\" opacity=\"0.6\" d=\"M 16083.493052913691,-3488.9373544803857 L 16416.24377738408,-7364.860998759542 L 24319.975448754933,2077.5805747876093 L 16083.493052913691,-3488.9373544803857 z\" /><path fill-rule=\"evenodd\" fill=\"#ff3333\" stroke=\"#555555\" stroke-width=\"440.7065569871829\" opacity=\"0.6\" d=\"M 16416.24377738408,-7364.860998759542 L 16282.179637931318,-11998.112541456685 L 27387.956921482688,-11744.893314657858 L 16416.24377738408,-7364.860998759542 z\" /><path fill-rule=\"evenodd\" fill=\"#ff3333\" stroke=\"#555555\" stroke-width=\"440.7065569871829\" opacity=\"0.6\" d=\"M 16416.24377738408,-7364.860998759542 L 14720.583220963934,-7732.586092188748 L 16282.179637931318,-11998.112541456685 L 16416.24377738408,-7364.860998759542 z\" /><path fill-rule=\"evenodd\" fill=\"#ff3333\" stroke=\"#555555\" stroke-width=\"440.7065569871829\" opacity=\"0.6\" d=\"M 14720.583220963934,-7732.586092188748 L 16416.24377738408,-7364.860998759542 L 16083.493052913691,-3488.9373544803857 L 14720.583220963934,-7732.586092188748 z\" /><path fill-rule=\"evenodd\" fill=\"#ff3333\" stroke=\"#555555\" stroke-width=\"440.7065569871829\" opacity=\"0.6\" d=\"M 6740.386080350194,-11874.323137499914 L 3624.276364476542,-13262.189259245559 L 3077.588023623315,-20150.19720539014 L 6740.386080350194,-11874.323137499914 z\" /><path fill-rule=\"evenodd\" fill=\"#ff3333\" stroke=\"#555555\" stroke-width=\"440.7065569871829\" opacity=\"0.6\" d=\"M 3624.276364476542,-13262.189259245559 L -5062.846817360966,-15046.477751449253 L 3077.588023623315,-20150.19720539014 L 3624.276364476542,-13262.189259245559 z\" /><path fill-rule=\"evenodd\" fill=\"#ff3333\" stroke=\"#555555\" stroke-width=\"440.7065569871829\" opacity=\"0.6\" d=\"M 11647.556089784119,-8335.578038585589 L 15316.656192481734,-13408.622198419167 L 13602.748316420731,-8561.739123241165 L 11647.556089784119,-8335.578038585589 z\" /><path fill-rule=\"evenodd\" fill=\"#ff3333\" stroke=\"#555555\" stroke-width=\"440.7065569871829\" opacity=\"0.6\" d=\"M 11647.556089784119,-8335.578038585589 L 6740.386080350194,-11874.323137499914 L 15316.656192481734,-13408.622198419167 L 11647.556089784119,-8335.578038585589 z\" /><path fill-rule=\"evenodd\" fill=\"#ff3333\" stroke=\"#555555\" stroke-width=\"440.7065569871829\" opacity=\"0.6\" d=\"M 14720.583220963934,-7732.586092188748 L 11647.556089784119,-8335.578038585589 L 13602.748316420731,-8561.739123241165 L 14720.583220963934,-7732.586092188748 z\" /><path fill-rule=\"evenodd\" fill=\"#ff3333\" stroke=\"#555555\" stroke-width=\"440.7065569871829\" opacity=\"0.6\" d=\"M 11647.556089784119,-8335.578038585589 L 14720.583220963934,-7732.586092188748 L 16083.493052913691,-3488.9373544803857 L 11647.556089784119,-8335.578038585589 z\" /><path fill-rule=\"evenodd\" fill=\"#ff3333\" stroke=\"#555555\" stroke-width=\"440.7065569871829\" opacity=\"0.6\" d=\"M -3461.226462706492,-12265.734829877983 L -2226.348730527413,-10001.589426947943 L -4921.7236305923,-9305.599380978161 L -3461.226462706492,-12265.734829877983 z\" /><path fill-rule=\"evenodd\" fill=\"#ff3333\" stroke=\"#555555\" stroke-width=\"440.7065569871829\" opacity=\"0.6\" d=\"M -5062.846817360966,-15046.477751449253 L -3461.226462706492,-12265.734829877983 L -4921.7236305923,-9305.599380978161 L -5062.846817360966,-15046.477751449253 z\" /><path fill-rule=\"evenodd\" fill=\"#ff3333\" stroke=\"#555555\" stroke-width=\"440.7065569871829\" opacity=\"0.6\" d=\"M 3624.276364476542,-13262.189259245559 L -3461.226462706492,-12265.734829877983 L -5062.846817360966,-15046.477751449253 L 3624.276364476542,-13262.189259245559 z\" /><path fill-rule=\"evenodd\" fill=\"#ff3333\" stroke=\"#555555\" stroke-width=\"440.7065569871829\" opacity=\"0.6\" d=\"M 13224.42782839363,22492.745179100715 L 8704.817660365072,18884.36015006967 L 9357.439220151002,15228.883305672249 L 13224.42782839363,22492.745179100715 z\" /><path fill-rule=\"evenodd\" fill=\"#ff3333\" stroke=\"#555555\" stroke-width=\"440.7065569871829\" opacity=\"0.6\" d=\"M 3900.0226063737364,16564.781793736744 L 8704.817660365072,18884.36015006967 L 5093.912078469788,20829.421958214625 L 3900.0226063737364,16564.781793736744 z\" /><path fill-rule=\"evenodd\" fill=\"#ff3333\" stroke=\"#555555\" stroke-width=\"440.7065569871829\" opacity=\"0.6\" d=\"M 2798.508616831047,16860.70431157683 L 5093.912078469788,20829.421958214625 L 1528.4433135604377,19649.102619449834 L 2798.508616831047,16860.70431157683 z\" /><path fill-rule=\"evenodd\" fill=\"#ff3333\" stroke=\"#555555\" stroke-width=\"440.7065569871829\" opacity=\"0.6\" d=\"M 2798.508616831047,16860.70431157683 L 3900.0226063737364,16564.781793736744 L 5093.912078469788,20829.421958214625 L 2798.508616831047,16860.70431157683 z\" /><path fill-rule=\"evenodd\" fill=\"#ff3333\" stroke=\"#555555\" stroke-width=\"440.7065569871829\" opacity=\"0.6\" d=\"M -5198.994505071077,14111.188606023383 L -1823.5920745937492,8454.162372990355 L 838.1449957106852,11911.556480527312 L -5198.994505071077,14111.188606023383 z\" /><path fill-rule=\"evenodd\" fill=\"#ff3333\" stroke=\"#555555\" stroke-width=\"440.7065569871829\" opacity=\"0.6\" d=\"M -10709.77074474118,-3306.7603848369263 L -11946.39257132755,-19084.82202401754 L -4921.7236305923,-9305.599380978161 L -10709.77074474118,-3306.7603848369263 z\" /><path fill-rule=\"evenodd\" fill=\"#ff3333\" stroke=\"#555555\" stroke-width=\"440.7065569871829\" opacity=\"0.6\" d=\"M 2798.508616831047,16860.70431157683 L 4561.217228346437,13654.304143401123 L 3900.0226063737364,16564.781793736744 L 2798.508616831047,16860.70431157683 z\" /><path fill-rule=\"evenodd\" fill=\"#ff3333\" stroke=\"#555555\" stroke-width=\"440.7065569871829\" opacity=\"0.6\" d=\"M 11774.32090065812,6843.654443673728 L 15979.636535448226,7460.509232741003 L 9357.439220151002,15228.883305672249 L 11774.32090065812,6843.654443673728 z\" /><path fill-rule=\"evenodd\" fill=\"#ff3333\" stroke=\"#555555\" stroke-width=\"440.7065569871829\" opacity=\"0.6\" d=\"M 8391.740955019177,-280.41462209535996 L 10725.592086820008,779.4936903531096 L 8333.28330964778,459.79200337720965 L 8391.740955019177,-280.41462209535996 z\" /><path fill-rule=\"evenodd\" fill=\"#ff3333\" stroke=\"#555555\" stroke-width=\"440.7065569871829\" opacity=\"0.6\" d=\"M -3461.226462706492,-12265.734829877983 L 2384.9971180873317,-11158.807604988473 L -2226.348730527413,-10001.589426947943 L -3461.226462706492,-12265.734829877983 z\" /><path fill-rule=\"evenodd\" fill=\"#ff3333\" stroke=\"#555555\" stroke-width=\"440.7065569871829\" opacity=\"0.6\" d=\"M 2384.9971180873317,-11158.807604988473 L -3461.226462706492,-12265.734829877983 L 3624.276364476542,-13262.189259245559 L 2384.9971180873317,-11158.807604988473 z\" /><path fill-rule=\"evenodd\" fill=\"#ff3333\" stroke=\"#555555\" stroke-width=\"440.7065569871829\" opacity=\"0.6\" d=\"M 8704.817660365072,18884.36015006967 L 8719.508793460469,21167.542478695374 L 5093.912078469788,20829.421958214625 L 8704.817660365072,18884.36015006967 z\" /><path fill-rule=\"evenodd\" fill=\"#ff3333\" stroke=\"#555555\" stroke-width=\"440.7065569871829\" opacity=\"0.6\" d=\"M 8719.508793460469,21167.542478695374 L 8704.817660365072,18884.36015006967 L 13224.42782839363,22492.745179100715 L 8719.508793460469,21167.542478695374 z\" /><path fill-rule=\"evenodd\" fill=\"#ff3333\" stroke=\"#555555\" stroke-width=\"440.7065569871829\" opacity=\"0.6\" d=\"M 5093.912078469788,20829.421958214625 L 8719.508793460469,21167.542478695374 L 14785.176424949914,27081.194452321353 L 5093.912078469788,20829.421958214625 z\" /><path fill-rule=\"evenodd\" fill=\"#ff3333\" stroke=\"#555555\" stroke-width=\"440.7065569871829\" opacity=\"0.6\" d=\"M 8719.508793460469,21167.542478695374 L 13224.42782839363,22492.745179100715 L 14785.176424949914,27081.194452321353 L 8719.508793460469,21167.542478695374 z\" /><path fill-rule=\"evenodd\" fill=\"#ff3333\" stroke=\"#555555\" stroke-width=\"440.7065569871829\" opacity=\"0.6\" d=\"M -961.5674243716007,479.62223262739985 L 4480.75501719583,-984.2989976533248 L 4054.396815534624,1436.8190104878604 L -961.5674243716007,479.62223262739985 z\" /><path fill-rule=\"evenodd\" fill=\"#ff3333\" stroke=\"#555555\" stroke-width=\"440.7065569871829\" opacity=\"0.6\" d=\"M -961.5674243716007,479.62223262739985 L -488.70357784369133,-1974.421889552004 L 4480.75501719583,-984.2989976533248 L -961.5674243716007,479.62223262739985 z\" /><path fill-rule=\"evenodd\" fill=\"#ff3333\" stroke=\"#555555\" stroke-width=\"440.7065569871829\" opacity=\"0.6\" d=\"M -488.70357784369133,-1974.421889552004 L -961.5674243716007,479.62223262739985 L -1799.451128319855,605.8753341196276 L -488.70357784369133,-1974.421889552004 z\" /><path fill-rule=\"evenodd\" fill=\"#ff3333\" stroke=\"#555555\" stroke-width=\"440.7065569871829\" opacity=\"0.6\" d=\"M -488.70357784369133,-1974.421889552004 L -3571.053140738295,-3591.734699387084 L -1725.52524886507,-6860.891769662348 L -488.70357784369133,-1974.421889552004 z\" /><path fill-rule=\"evenodd\" fill=\"#ff3333\" stroke=\"#555555\" stroke-width=\"440.7065569871829\" opacity=\"0.6\" d=\"M -3571.053140738295,-3591.734699387084 L -488.70357784369133,-1974.421889552004 L -1799.451128319855,605.8753341196276 L -3571.053140738295,-3591.734699387084 z\" /><path fill-rule=\"evenodd\" fill=\"#ff3333\" stroke=\"#555555\" stroke-width=\"440.7065569871829\" opacity=\"0.6\" d=\"M 11647.556089784119,-8335.578038585589 L 6366.315560994624,-9514.978282385715 L 6740.386080350194,-11874.323137499914 L 11647.556089784119,-8335.578038585589 z\" /><path fill-rule=\"evenodd\" fill=\"#ff3333\" stroke=\"#555555\" stroke-width=\"440.7065569871829\" opacity=\"0.6\" d=\"M 1759.7097433116119,-5560.441323007513 L -488.70357784369133,-1974.421889552004 L -1725.52524886507,-6860.891769662348 L 1759.7097433116119,-5560.441323007513 z\" /><path fill-rule=\"evenodd\" fill=\"#ff3333\" stroke=\"#555555\" stroke-width=\"440.7065569871829\" opacity=\"0.6\" d=\"M -6595.5272127204125,4978.612641628726 L -1859.174637997235,4764.582520800403 L -1823.5920745937492,8454.162372990355 L -6595.5272127204125,4978.612641628726 z\" /><path fill-rule=\"evenodd\" fill=\"#ff3333\" stroke=\"#555555\" stroke-width=\"440.7065569871829\" opacity=\"0.6\" d=\"M -5198.994505071077,14111.188606023383 L -7415.252323823991,10142.360165160037 L -1823.5920745937492,8454.162372990355 L -5198.994505071077,14111.188606023383 z\" /><path fill-rule=\"evenodd\" fill=\"#ff3333\" stroke=\"#555555\" stroke-width=\"440.7065569871829\" opacity=\"0.6\" d=\"M -6595.5272127204125,4978.612641628726 L -7415.252323823991,10142.360165160037 L -8439.722269623679,6492.428764147682 L -6595.5272127204125,4978.612641628726 z\" /><path fill-rule=\"evenodd\" fill=\"#ff3333\" stroke=\"#555555\" stroke-width=\"440.7065569871829\" opacity=\"0.6\" d=\"M -7415.252323823991,10142.360165160037 L -6595.5272127204125,4978.612641628726 L -1823.5920745937492,8454.162372990355 L -7415.252323823991,10142.360165160037 z\" /><path fill-rule=\"evenodd\" fill=\"#ff3333\" stroke=\"#555555\" stroke-width=\"440.7065569871829\" opacity=\"0.6\" d=\"M 2798.508616831047,16860.70431157683 L -3964.6890904952706,18203.914057605547 L 838.1449957106852,11911.556480527312 L 2798.508616831047,16860.70431157683 z\" /><path fill-rule=\"evenodd\" fill=\"#ff3333\" stroke=\"#555555\" stroke-width=\"440.7065569871829\" opacity=\"0.6\" d=\"M -3964.6890904952706,18203.914057605547 L -5198.994505071077,14111.188606023383 L 838.1449957106852,11911.556480527312 L -3964.6890904952706,18203.914057605547 z\" /><path fill-rule=\"evenodd\" fill=\"#ff3333\" stroke=\"#555555\" stroke-width=\"440.7065569871829\" opacity=\"0.6\" d=\"M -3964.6890904952706,18203.914057605547 L 2798.508616831047,16860.70431157683 L 1528.4433135604377,19649.102619449834 L -3964.6890904952706,18203.914057605547 z\" /><path fill-rule=\"evenodd\" fill=\"#ff3333\" stroke=\"#555555\" stroke-width=\"440.7065569871829\" opacity=\"0.6\" d=\"M -8683.928073671445,23296.442020137118 L -3964.6890904952706,18203.914057605547 L 1528.4433135604377,19649.102619449834 L -8683.928073671445,23296.442020137118 z\" /><path fill-rule=\"evenodd\" fill=\"#ff3333\" stroke=\"#555555\" stroke-width=\"440.7065569871829\" opacity=\"0.6\" d=\"M -5357.345147468609,-6550.076856852051 L -10709.77074474118,-3306.7603848369263 L -4921.7236305923,-9305.599380978161 L -5357.345147468609,-6550.076856852051 z\" /><path fill-rule=\"evenodd\" fill=\"#ff3333\" stroke=\"#555555\" stroke-width=\"440.7065569871829\" opacity=\"0.6\" d=\"M -1725.52524886507,-6860.891769662348 L -5357.345147468609,-6550.076856852051 L -4921.7236305923,-9305.599380978161 L -1725.52524886507,-6860.891769662348 z\" /><path fill-rule=\"evenodd\" fill=\"#ff3333\" stroke=\"#555555\" stroke-width=\"440.7065569871829\" opacity=\"0.6\" d=\"M -10709.77074474118,-3306.7603848369263 L -13157.135917488235,-2605.8120628115566 L -11946.39257132755,-19084.82202401754 L -10709.77074474118,-3306.7603848369263 z\" /><path fill-rule=\"evenodd\" fill=\"#ff3333\" stroke=\"#555555\" stroke-width=\"440.7065569871829\" opacity=\"0.6\" d=\"M -30192.966513235817,-1483.298882695064 L -13157.135917488235,-2605.8120628115566 L -15177.184182412693,2.3554890918729843 L -30192.966513235817,-1483.298882695064 z\" /><path fill-rule=\"evenodd\" fill=\"#ff3333\" stroke=\"#555555\" stroke-width=\"440.7065569871829\" opacity=\"0.6\" d=\"M -11946.39257132755,-19084.82202401754 L -13157.135917488235,-2605.8120628115566 L -30192.966513235817,-1483.298882695064 L -11946.39257132755,-19084.82202401754 z\" /><path fill-rule=\"evenodd\" fill=\"#ff3333\" stroke=\"#555555\" stroke-width=\"440.7065569871829\" opacity=\"0.6\" d=\"M 2502.541712652919,5337.474729263836 L 4394.332821655651,9052.464481371759 L 1592.6831811121601,6503.7771712120775 L 2502.541712652919,5337.474729263836 z\" /><path fill-rule=\"evenodd\" fill=\"#ff3333\" stroke=\"#555555\" stroke-width=\"440.7065569871829\" opacity=\"0.6\" d=\"M 4561.217228346437,13654.304143401123 L 6635.740063339519,14303.423465723994 L 3900.0226063737364,16564.781793736744 L 4561.217228346437,13654.304143401123 z\" /><path fill-rule=\"evenodd\" fill=\"#ff3333\" stroke=\"#555555\" stroke-width=\"440.7065569871829\" opacity=\"0.6\" d=\"M 8704.817660365072,18884.36015006967 L 6635.740063339519,14303.423465723994 L 9357.439220151002,15228.883305672249 L 8704.817660365072,18884.36015006967 z\" /><path fill-rule=\"evenodd\" fill=\"#ff3333\" stroke=\"#555555\" stroke-width=\"440.7065569871829\" opacity=\"0.6\" d=\"M 6635.740063339519,14303.423465723994 L 8704.817660365072,18884.36015006967 L 3900.0226063737364,16564.781793736744 L 6635.740063339519,14303.423465723994 z\" /><path fill-rule=\"evenodd\" fill=\"#ff3333\" stroke=\"#555555\" stroke-width=\"440.7065569871829\" opacity=\"0.6\" d=\"M 7705.1659571059645,11758.99216021066 L 11774.32090065812,6843.654443673728 L 9357.439220151002,15228.883305672249 L 7705.1659571059645,11758.99216021066 z\" /><path fill-rule=\"evenodd\" fill=\"#ff3333\" stroke=\"#555555\" stroke-width=\"440.7065569871829\" opacity=\"0.6\" d=\"M 6635.740063339519,14303.423465723994 L 7705.1659571059645,11758.99216021066 L 9357.439220151002,15228.883305672249 L 6635.740063339519,14303.423465723994 z\" /><path fill-rule=\"evenodd\" fill=\"#ff3333\" stroke=\"#555555\" stroke-width=\"440.7065569871829\" opacity=\"0.6\" d=\"M 7705.1659571059645,11758.99216021066 L 6635.740063339519,14303.423465723994 L 4561.217228346437,13654.304143401123 L 7705.1659571059645,11758.99216021066 z\" /><path fill-rule=\"evenodd\" fill=\"#ff3333\" stroke=\"#555555\" stroke-width=\"440.7065569871829\" opacity=\"0.6\" d=\"M 7705.1659571059645,11758.99216021066 L 4394.332821655651,9052.464481371759 L 5980.115372482611,8912.448289287391 L 7705.1659571059645,11758.99216021066 z\" /><path fill-rule=\"evenodd\" fill=\"#ff3333\" stroke=\"#555555\" stroke-width=\"440.7065569871829\" opacity=\"0.6\" d=\"M 4394.332821655651,9052.464481371759 L 7705.1659571059645,11758.99216021066 L 4561.217228346437,13654.304143401123 L 4394.332821655651,9052.464481371759 z\" /><path fill-rule=\"evenodd\" fill=\"#ff3333\" stroke=\"#555555\" stroke-width=\"440.7065569871829\" opacity=\"0.6\" d=\"M 15979.636535448226,7460.509232741003 L 12834.06059112478,4121.513703301645 L 14063.552369840261,1356.3102700620657 L 15979.636535448226,7460.509232741003 z\" /><path fill-rule=\"evenodd\" fill=\"#ff3333\" stroke=\"#555555\" stroke-width=\"440.7065569871829\" opacity=\"0.6\" d=\"M 11774.32090065812,6843.654443673728 L 12834.06059112478,4121.513703301645 L 15979.636535448226,7460.509232741003 L 11774.32090065812,6843.654443673728 z\" /><path fill-rule=\"evenodd\" fill=\"#ff3333\" stroke=\"#555555\" stroke-width=\"440.7065569871829\" opacity=\"0.6\" d=\"M 6424.185127465581,-399.1956778857981 L 8391.740955019177,-280.41462209535996 L 8333.28330964778,459.79200337720965 L 6424.185127465581,-399.1956778857981 z\" /><path fill-rule=\"evenodd\" fill=\"#ff3333\" stroke=\"#555555\" stroke-width=\"440.7065569871829\" opacity=\"0.6\" d=\"M 4480.75501719583,-984.2989976533248 L 6424.185127465581,-399.1956778857981 L 4054.396815534624,1436.8190104878604 L 4480.75501719583,-984.2989976533248 z\" /><path fill-rule=\"evenodd\" fill=\"#ff3333\" stroke=\"#555555\" stroke-width=\"440.7065569871829\" opacity=\"0.6\" d=\"M 2384.9971180873317,-11158.807604988473 L 1405.43721986324,-8999.259600525205 L -2226.348730527413,-10001.589426947943 L 2384.9971180873317,-11158.807604988473 z\" /><path fill-rule=\"evenodd\" fill=\"#ff3333\" stroke=\"#555555\" stroke-width=\"440.7065569871829\" opacity=\"0.6\" d=\"M 1405.43721986324,-8999.259600525205 L -1725.52524886507,-6860.891769662348 L -2226.348730527413,-10001.589426947943 L 1405.43721986324,-8999.259600525205 z\" /><path fill-rule=\"evenodd\" fill=\"#ff3333\" stroke=\"#555555\" stroke-width=\"440.7065569871829\" opacity=\"0.6\" d=\"M 1405.43721986324,-8999.259600525205 L 1759.7097433116119,-5560.441323007513 L -1725.52524886507,-6860.891769662348 L 1405.43721986324,-8999.259600525205 z\" /><path fill-rule=\"evenodd\" fill=\"#ff3333\" stroke=\"#555555\" stroke-width=\"440.7065569871829\" opacity=\"0.6\" d=\"M 1759.7097433116119,-5560.441323007513 L 1405.43721986324,-8999.259600525205 L 2995.950235690686,-7902.001668878072 L 1759.7097433116119,-5560.441323007513 z\" /><path fill-rule=\"evenodd\" fill=\"#ff3333\" stroke=\"#555555\" stroke-width=\"440.7065569871829\" opacity=\"0.6\" d=\"M 6366.315560994624,-9514.978282385715 L 4681.333572883035,-11367.743764390194 L 6740.386080350194,-11874.323137499914 L 6366.315560994624,-9514.978282385715 z\" /><path fill-rule=\"evenodd\" fill=\"#ff3333\" stroke=\"#555555\" stroke-width=\"440.7065569871829\" opacity=\"0.6\" d=\"M 4681.333572883035,-11367.743764390194 L 3624.276364476542,-13262.189259245559 L 6740.386080350194,-11874.323137499914 L 4681.333572883035,-11367.743764390194 z\" /><path fill-rule=\"evenodd\" fill=\"#ff3333\" stroke=\"#555555\" stroke-width=\"440.7065569871829\" opacity=\"0.6\" d=\"M 4681.333572883035,-11367.743764390194 L 2384.9971180873317,-11158.807604988473 L 3624.276364476542,-13262.189259245559 L 4681.333572883035,-11367.743764390194 z\" /><path fill-rule=\"evenodd\" fill=\"#ff3333\" stroke=\"#555555\" stroke-width=\"440.7065569871829\" opacity=\"0.6\" d=\"M 8588.919895112564,-1654.335261135775 L 6366.315560994624,-9514.978282385715 L 11647.556089784119,-8335.578038585589 L 8588.919895112564,-1654.335261135775 z\" /><path fill-rule=\"evenodd\" fill=\"#ff3333\" stroke=\"#555555\" stroke-width=\"440.7065569871829\" opacity=\"0.6\" d=\"M 8391.740955019177,-280.41462209535996 L 8588.919895112564,-1654.335261135775 L 10725.592086820008,779.4936903531096 L 8391.740955019177,-280.41462209535996 z\" /><path fill-rule=\"evenodd\" fill=\"#ff3333\" stroke=\"#555555\" stroke-width=\"440.7065569871829\" opacity=\"0.6\" d=\"M 6424.185127465581,-399.1956778857981 L 8588.919895112564,-1654.335261135775 L 8391.740955019177,-280.41462209535996 L 6424.185127465581,-399.1956778857981 z\" /><path fill-rule=\"evenodd\" fill=\"#ff3333\" stroke=\"#555555\" stroke-width=\"440.7065569871829\" opacity=\"0.6\" d=\"M 10725.592086820008,779.4936903531096 L 8588.919895112564,-1654.335261135775 L 16083.493052913691,-3488.9373544803857 L 10725.592086820008,779.4936903531096 z\" /><path fill-rule=\"evenodd\" fill=\"#ff3333\" stroke=\"#555555\" stroke-width=\"440.7065569871829\" opacity=\"0.6\" d=\"M 8588.919895112564,-1654.335261135775 L 11647.556089784119,-8335.578038585589 L 16083.493052913691,-3488.9373544803857 L 8588.919895112564,-1654.335261135775 z\" /><path fill-rule=\"evenodd\" fill=\"#ff3333\" stroke=\"#555555\" stroke-width=\"440.7065569871829\" opacity=\"0.6\" d=\"M 8588.919895112564,-1654.335261135775 L 6424.185127465581,-399.1956778857981 L 4480.75501719583,-984.2989976533248 L 8588.919895112564,-1654.335261135775 z\" /><path fill-rule=\"evenodd\" fill=\"#ff3333\" stroke=\"#555555\" stroke-width=\"440.7065569871829\" opacity=\"0.6\" d=\"M -1859.174637997235,4764.582520800403 L -334.05018763525135,4956.68626315459 L -1823.5920745937492,8454.162372990355 L -1859.174637997235,4764.582520800403 z\" /><path fill-rule=\"evenodd\" fill=\"#ff3333\" stroke=\"#555555\" stroke-width=\"440.7065569871829\" opacity=\"0.6\" d=\"M -334.05018763525135,4956.68626315459 L 2502.541712652919,5337.474729263836 L 1592.6831811121601,6503.7771712120775 L -334.05018763525135,4956.68626315459 z\" /><path fill-rule=\"evenodd\" fill=\"#ff3333\" stroke=\"#555555\" stroke-width=\"440.7065569871829\" opacity=\"0.6\" d=\"M -6509.380969438042,2302.021185787873 L -3277.572472271519,1497.7048021639425 L -6595.5272127204125,4978.612641628726 L -6509.380969438042,2302.021185787873 z\" /><path fill-rule=\"evenodd\" fill=\"#ff3333\" stroke=\"#555555\" stroke-width=\"440.7065569871829\" opacity=\"0.6\" d=\"M -3277.572472271519,1497.7048021639425 L -6509.380969438042,2302.021185787873 L -6903.959251048062,-1718.8611840781637 L -3277.572472271519,1497.7048021639425 z\" /><path fill-rule=\"evenodd\" fill=\"#ff3333\" stroke=\"#555555\" stroke-width=\"440.7065569871829\" opacity=\"0.6\" d=\"M -3277.572472271519,1497.7048021639425 L -3571.053140738295,-3591.734699387084 L -1799.451128319855,605.8753341196276 L -3277.572472271519,1497.7048021639425 z\" /><path fill-rule=\"evenodd\" fill=\"#ff3333\" stroke=\"#555555\" stroke-width=\"440.7065569871829\" opacity=\"0.6\" d=\"M -3571.053140738295,-3591.734699387084 L -3277.572472271519,1497.7048021639425 L -6903.959251048062,-1718.8611840781637 L -3571.053140738295,-3591.734699387084 z\" /><path fill-rule=\"evenodd\" fill=\"#ff3333\" stroke=\"#555555\" stroke-width=\"440.7065569871829\" opacity=\"0.6\" d=\"M -9525.997172610048,-31.360400598397174 L -10709.77074474118,-3306.7603848369263 L -6903.959251048062,-1718.8611840781637 L -9525.997172610048,-31.360400598397174 z\" /><path fill-rule=\"evenodd\" fill=\"#ff3333\" stroke=\"#555555\" stroke-width=\"440.7065569871829\" opacity=\"0.6\" d=\"M -9525.997172610048,-31.360400598397174 L -13157.135917488235,-2605.8120628115566 L -10709.77074474118,-3306.7603848369263 L -9525.997172610048,-31.360400598397174 z\" /><path fill-rule=\"evenodd\" fill=\"#ff3333\" stroke=\"#555555\" stroke-width=\"440.7065569871829\" opacity=\"0.6\" d=\"M -13157.135917488235,-2605.8120628115566 L -9525.997172610048,-31.360400598397174 L -15177.184182412693,2.3554890918729843 L -13157.135917488235,-2605.8120628115566 z\" /><path fill-rule=\"evenodd\" fill=\"#ff3333\" stroke=\"#555555\" stroke-width=\"440.7065569871829\" opacity=\"0.6\" d=\"M -9525.997172610048,-31.360400598397174 L -14660.182082609132,4677.947276132275 L -15177.184182412693,2.3554890918729843 L -9525.997172610048,-31.360400598397174 z\" /><path fill-rule=\"evenodd\" fill=\"#ff3333\" stroke=\"#555555\" stroke-width=\"440.7065569871829\" opacity=\"0.6\" d=\"M -8645.662282911604,5348.200888639878 L -6595.5272127204125,4978.612641628726 L -8439.722269623679,6492.428764147682 L -8645.662282911604,5348.200888639878 z\" /><path fill-rule=\"evenodd\" fill=\"#ff3333\" stroke=\"#555555\" stroke-width=\"440.7065569871829\" opacity=\"0.6\" d=\"M -8645.662282911604,5348.200888639878 L -6509.380969438042,2302.021185787873 L -6595.5272127204125,4978.612641628726 L -8645.662282911604,5348.200888639878 z\" /><path fill-rule=\"evenodd\" fill=\"#ff3333\" stroke=\"#555555\" stroke-width=\"440.7065569871829\" opacity=\"0.6\" d=\"M -14660.182082609132,4677.947276132275 L -8645.662282911604,5348.200888639878 L -8439.722269623679,6492.428764147682 L -14660.182082609132,4677.947276132275 z\" /><path fill-rule=\"evenodd\" fill=\"#ff3333\" stroke=\"#555555\" stroke-width=\"440.7065569871829\" opacity=\"0.6\" d=\"M -9525.997172610048,-31.360400598397174 L -8645.662282911604,5348.200888639878 L -14660.182082609132,4677.947276132275 L -9525.997172610048,-31.360400598397174 z\" /><path fill-rule=\"evenodd\" fill=\"#ff3333\" stroke=\"#555555\" stroke-width=\"440.7065569871829\" opacity=\"0.6\" d=\"M -8803.452547776169,10329.543003646124 L -14660.182082609132,4677.947276132275 L -8439.722269623679,6492.428764147682 L -8803.452547776169,10329.543003646124 z\" /><path fill-rule=\"evenodd\" fill=\"#ff3333\" stroke=\"#555555\" stroke-width=\"440.7065569871829\" opacity=\"0.6\" d=\"M -7415.252323823991,10142.360165160037 L -8803.452547776169,10329.543003646124 L -8439.722269623679,6492.428764147682 L -7415.252323823991,10142.360165160037 z\" /><path fill-rule=\"evenodd\" fill=\"#ff3333\" stroke=\"#555555\" stroke-width=\"440.7065569871829\" opacity=\"0.6\" d=\"M -8803.452547776169,10329.543003646124 L -7415.252323823991,10142.360165160037 L -5198.994505071077,14111.188606023383 L -8803.452547776169,10329.543003646124 z\" /><path fill-rule=\"evenodd\" fill=\"#ff3333\" stroke=\"#555555\" stroke-width=\"440.7065569871829\" opacity=\"0.6\" d=\"M -10709.77074474118,-3306.7603848369263 L -5932.926877345487,-4108.017147222072 L -6903.959251048062,-1718.8611840781637 L -10709.77074474118,-3306.7603848369263 z\" /><path fill-rule=\"evenodd\" fill=\"#ff3333\" stroke=\"#555555\" stroke-width=\"440.7065569871829\" opacity=\"0.6\" d=\"M -5357.345147468609,-6550.076856852051 L -5932.926877345487,-4108.017147222072 L -10709.77074474118,-3306.7603848369263 L -5357.345147468609,-6550.076856852051 z\" /><path fill-rule=\"evenodd\" fill=\"#ff3333\" stroke=\"#555555\" stroke-width=\"440.7065569871829\" opacity=\"0.6\" d=\"M -5932.926877345487,-4108.017147222072 L -3571.053140738295,-3591.734699387084 L -6903.959251048062,-1718.8611840781637 L -5932.926877345487,-4108.017147222072 z\" /><path fill-rule=\"evenodd\" fill=\"#ff3333\" stroke=\"#555555\" stroke-width=\"440.7065569871829\" opacity=\"0.6\" d=\"M -3571.053140738295,-3591.734699387084 L -4329.551494682985,-5144.813009308127 L -1725.52524886507,-6860.891769662348 L -3571.053140738295,-3591.734699387084 z\" /><path fill-rule=\"evenodd\" fill=\"#ff3333\" stroke=\"#555555\" stroke-width=\"440.7065569871829\" opacity=\"0.6\" d=\"M -4329.551494682985,-5144.813009308127 L -5357.345147468609,-6550.076856852051 L -1725.52524886507,-6860.891769662348 L -4329.551494682985,-5144.813009308127 z\" /><path fill-rule=\"evenodd\" fill=\"#ff3333\" stroke=\"#555555\" stroke-width=\"440.7065569871829\" opacity=\"0.6\" d=\"M -5932.926877345487,-4108.017147222072 L -4329.551494682985,-5144.813009308127 L -3571.053140738295,-3591.734699387084 L -5932.926877345487,-4108.017147222072 z\" /><path fill-rule=\"evenodd\" fill=\"#ff3333\" stroke=\"#555555\" stroke-width=\"440.7065569871829\" opacity=\"0.6\" d=\"M -4329.551494682985,-5144.813009308127 L -5932.926877345487,-4108.017147222072 L -5357.345147468609,-6550.076856852051 L -4329.551494682985,-5144.813009308127 z\" /><path fill-rule=\"evenodd\" fill=\"#ff3333\" stroke=\"#555555\" stroke-width=\"440.7065569871829\" opacity=\"0.6\" d=\"M 4394.332821655651,9052.464481371759 L 2288.5824732679857,12005.492288740474 L 1729.459133897577,11219.29290226274 L 4394.332821655651,9052.464481371759 z\" /><path fill-rule=\"evenodd\" fill=\"#ff3333\" stroke=\"#555555\" stroke-width=\"440.7065569871829\" opacity=\"0.6\" d=\"M 2288.5824732679857,12005.492288740474 L 4394.332821655651,9052.464481371759 L 4561.217228346437,13654.304143401123 L 2288.5824732679857,12005.492288740474 z\" /><path fill-rule=\"evenodd\" fill=\"#ff3333\" stroke=\"#555555\" stroke-width=\"440.7065569871829\" opacity=\"0.6\" d=\"M 2288.5824732679857,12005.492288740474 L 838.1449957106852,11911.556480527312 L 1729.459133897577,11219.29290226274 L 2288.5824732679857,12005.492288740474 z\" /><path fill-rule=\"evenodd\" fill=\"#ff3333\" stroke=\"#555555\" stroke-width=\"440.7065569871829\" opacity=\"0.6\" d=\"M 2288.5824732679857,12005.492288740474 L 2798.508616831047,16860.70431157683 L 838.1449957106852,11911.556480527312 L 2288.5824732679857,12005.492288740474 z\" /><path fill-rule=\"evenodd\" fill=\"#ff3333\" stroke=\"#555555\" stroke-width=\"440.7065569871829\" opacity=\"0.6\" d=\"M 2288.5824732679857,12005.492288740474 L 4561.217228346437,13654.304143401123 L 2798.508616831047,16860.70431157683 L 2288.5824732679857,12005.492288740474 z\" /><path fill-rule=\"evenodd\" fill=\"#ff3333\" stroke=\"#555555\" stroke-width=\"440.7065569871829\" opacity=\"0.6\" d=\"M 12834.06059112478,4121.513703301645 L 12246.58006841576,1382.9965942318859 L 14063.552369840261,1356.3102700620657 L 12834.06059112478,4121.513703301645 z\" /><path fill-rule=\"evenodd\" fill=\"#ff3333\" stroke=\"#555555\" stroke-width=\"440.7065569871829\" opacity=\"0.6\" d=\"M 12246.58006841576,1382.9965942318859 L 16083.493052913691,-3488.9373544803857 L 14063.552369840261,1356.3102700620657 L 12246.58006841576,1382.9965942318859 z\" /><path fill-rule=\"evenodd\" fill=\"#ff3333\" stroke=\"#555555\" stroke-width=\"440.7065569871829\" opacity=\"0.6\" d=\"M 12246.58006841576,1382.9965942318859 L 10725.592086820008,779.4936903531096 L 16083.493052913691,-3488.9373544803857 L 12246.58006841576,1382.9965942318859 z\" /><path fill-rule=\"evenodd\" fill=\"#ff3333\" stroke=\"#555555\" stroke-width=\"440.7065569871829\" opacity=\"0.6\" d=\"M 6801.748686503076,7108.840354590638 L 7705.1659571059645,11758.99216021066 L 5980.115372482611,8912.448289287391 L 6801.748686503076,7108.840354590638 z\" /><path fill-rule=\"evenodd\" fill=\"#ff3333\" stroke=\"#555555\" stroke-width=\"440.7065569871829\" opacity=\"0.6\" d=\"M 7705.1659571059645,11758.99216021066 L 6801.748686503076,7108.840354590638 L 11774.32090065812,6843.654443673728 L 7705.1659571059645,11758.99216021066 z\" /><path fill-rule=\"evenodd\" fill=\"#ff3333\" stroke=\"#555555\" stroke-width=\"440.7065569871829\" opacity=\"0.6\" d=\"M 4394.332821655651,9052.464481371759 L 6801.748686503076,7108.840354590638 L 5980.115372482611,8912.448289287391 L 4394.332821655651,9052.464481371759 z\" /><path fill-rule=\"evenodd\" fill=\"#ff3333\" stroke=\"#555555\" stroke-width=\"440.7065569871829\" opacity=\"0.6\" d=\"M 6801.748686503076,7108.840354590638 L 4394.332821655651,9052.464481371759 L 2502.541712652919,5337.474729263836 L 6801.748686503076,7108.840354590638 z\" /><path fill-rule=\"evenodd\" fill=\"#ff3333\" stroke=\"#555555\" stroke-width=\"440.7065569871829\" opacity=\"0.6\" d=\"M 2644.1072017573283,-8593.740512048083 L 6366.315560994624,-9514.978282385715 L 2995.950235690686,-7902.001668878072 L 2644.1072017573283,-8593.740512048083 z\" /><path fill-rule=\"evenodd\" fill=\"#ff3333\" stroke=\"#555555\" stroke-width=\"440.7065569871829\" opacity=\"0.6\" d=\"M 2644.1072017573283,-8593.740512048083 L 4681.333572883035,-11367.743764390194 L 6366.315560994624,-9514.978282385715 L 2644.1072017573283,-8593.740512048083 z\" /><path fill-rule=\"evenodd\" fill=\"#ff3333\" stroke=\"#555555\" stroke-width=\"440.7065569871829\" opacity=\"0.6\" d=\"M 4681.333572883035,-11367.743764390194 L 2644.1072017573283,-8593.740512048083 L 2384.9971180873317,-11158.807604988473 L 4681.333572883035,-11367.743764390194 z\" /><path fill-rule=\"evenodd\" fill=\"#ff3333\" stroke=\"#555555\" stroke-width=\"440.7065569871829\" opacity=\"0.6\" d=\"M 1405.43721986324,-8999.259600525205 L 2644.1072017573283,-8593.740512048083 L 2995.950235690686,-7902.001668878072 L 1405.43721986324,-8999.259600525205 z\" /><path fill-rule=\"evenodd\" fill=\"#ff3333\" stroke=\"#555555\" stroke-width=\"440.7065569871829\" opacity=\"0.6\" d=\"M 2644.1072017573283,-8593.740512048083 L 1405.43721986324,-8999.259600525205 L 2384.9971180873317,-11158.807604988473 L 2644.1072017573283,-8593.740512048083 z\" /><path fill-rule=\"evenodd\" fill=\"#ff3333\" stroke=\"#555555\" stroke-width=\"440.7065569871829\" opacity=\"0.6\" d=\"M 2839.545125170858,-3286.517197977476 L 8588.919895112564,-1654.335261135775 L 4480.75501719583,-984.2989976533248 L 2839.545125170858,-3286.517197977476 z\" /><path fill-rule=\"evenodd\" fill=\"#ff3333\" stroke=\"#555555\" stroke-width=\"440.7065569871829\" opacity=\"0.6\" d=\"M 2839.545125170858,-3286.517197977476 L 1759.7097433116119,-5560.441323007513 L 2995.950235690686,-7902.001668878072 L 2839.545125170858,-3286.517197977476 z\" /><path fill-rule=\"evenodd\" fill=\"#ff3333\" stroke=\"#555555\" stroke-width=\"440.7065569871829\" opacity=\"0.6\" d=\"M 6366.315560994624,-9514.978282385715 L 2839.545125170858,-3286.517197977476 L 2995.950235690686,-7902.001668878072 L 6366.315560994624,-9514.978282385715 z\" /><path fill-rule=\"evenodd\" fill=\"#ff3333\" stroke=\"#555555\" stroke-width=\"440.7065569871829\" opacity=\"0.6\" d=\"M 8588.919895112564,-1654.335261135775 L 2839.545125170858,-3286.517197977476 L 6366.315560994624,-9514.978282385715 L 8588.919895112564,-1654.335261135775 z\" /><path fill-rule=\"evenodd\" fill=\"#ff3333\" stroke=\"#555555\" stroke-width=\"440.7065569871829\" opacity=\"0.6\" d=\"M -488.70357784369133,-1974.421889552004 L 2839.545125170858,-3286.517197977476 L 4480.75501719583,-984.2989976533248 L -488.70357784369133,-1974.421889552004 z\" /><path fill-rule=\"evenodd\" fill=\"#ff3333\" stroke=\"#555555\" stroke-width=\"440.7065569871829\" opacity=\"0.6\" d=\"M 1759.7097433116119,-5560.441323007513 L 2839.545125170858,-3286.517197977476 L -488.70357784369133,-1974.421889552004 L 1759.7097433116119,-5560.441323007513 z\" /><path fill-rule=\"evenodd\" fill=\"#ff3333\" stroke=\"#555555\" stroke-width=\"440.7065569871829\" opacity=\"0.6\" d=\"M -334.05018763525135,4956.68626315459 L 1111.2554054656262,6952.850265838355 L -1823.5920745937492,8454.162372990355 L -334.05018763525135,4956.68626315459 z\" /><path fill-rule=\"evenodd\" fill=\"#ff3333\" stroke=\"#555555\" stroke-width=\"440.7065569871829\" opacity=\"0.6\" d=\"M 1111.2554054656262,6952.850265838355 L -334.05018763525135,4956.68626315459 L 1592.6831811121601,6503.7771712120775 L 1111.2554054656262,6952.850265838355 z\" /><path fill-rule=\"evenodd\" fill=\"#ff3333\" stroke=\"#555555\" stroke-width=\"440.7065569871829\" opacity=\"0.6\" d=\"M -1823.5920745937492,8454.162372990355 L 1111.2554054656262,6952.850265838355 L 1729.459133897577,11219.29290226274 L -1823.5920745937492,8454.162372990355 z\" /><path fill-rule=\"evenodd\" fill=\"#ff3333\" stroke=\"#555555\" stroke-width=\"440.7065569871829\" opacity=\"0.6\" d=\"M 1111.2554054656262,6952.850265838355 L 4394.332821655651,9052.464481371759 L 1729.459133897577,11219.29290226274 L 1111.2554054656262,6952.850265838355 z\" /><path fill-rule=\"evenodd\" fill=\"#ff3333\" stroke=\"#555555\" stroke-width=\"440.7065569871829\" opacity=\"0.6\" d=\"M 4394.332821655651,9052.464481371759 L 1111.2554054656262,6952.850265838355 L 1592.6831811121601,6503.7771712120775 L 4394.332821655651,9052.464481371759 z\" /><path fill-rule=\"evenodd\" fill=\"#ff3333\" stroke=\"#555555\" stroke-width=\"440.7065569871829\" opacity=\"0.6\" d=\"M -1741.8934587311219,3507.197702186085 L -1859.174637997235,4764.582520800403 L -6595.5272127204125,4978.612641628726 L -1741.8934587311219,3507.197702186085 z\" /><path fill-rule=\"evenodd\" fill=\"#ff3333\" stroke=\"#555555\" stroke-width=\"440.7065569871829\" opacity=\"0.6\" d=\"M -3277.572472271519,1497.7048021639425 L -1741.8934587311219,3507.197702186085 L -6595.5272127204125,4978.612641628726 L -3277.572472271519,1497.7048021639425 z\" /><path fill-rule=\"evenodd\" fill=\"#ff3333\" stroke=\"#555555\" stroke-width=\"440.7065569871829\" opacity=\"0.6\" d=\"M -6509.380969438042,2302.021185787873 L -9061.03398876367,169.8111568982075 L -6903.959251048062,-1718.8611840781637 L -6509.380969438042,2302.021185787873 z\" /><path fill-rule=\"evenodd\" fill=\"#ff3333\" stroke=\"#555555\" stroke-width=\"440.7065569871829\" opacity=\"0.6\" d=\"M -9061.03398876367,169.8111568982075 L -9525.997172610048,-31.360400598397174 L -6903.959251048062,-1718.8611840781637 L -9061.03398876367,169.8111568982075 z\" /><path fill-rule=\"evenodd\" fill=\"#ff3333\" stroke=\"#555555\" stroke-width=\"440.7065569871829\" opacity=\"0.6\" d=\"M -8645.662282911604,5348.200888639878 L -9061.03398876367,169.8111568982075 L -6509.380969438042,2302.021185787873 L -8645.662282911604,5348.200888639878 z\" /><path fill-rule=\"evenodd\" fill=\"#ff3333\" stroke=\"#555555\" stroke-width=\"440.7065569871829\" opacity=\"0.6\" d=\"M -9061.03398876367,169.8111568982075 L -8645.662282911604,5348.200888639878 L -9525.997172610048,-31.360400598397174 L -9061.03398876367,169.8111568982075 z\" /><path fill-rule=\"evenodd\" fill=\"#ff3333\" stroke=\"#555555\" stroke-width=\"440.7065569871829\" opacity=\"0.6\" d=\"M -11386.136210047833,19566.781100648892 L -8803.452547776169,10329.543003646124 L -5198.994505071077,14111.188606023383 L -11386.136210047833,19566.781100648892 z\" /><path fill-rule=\"evenodd\" fill=\"#ff3333\" stroke=\"#555555\" stroke-width=\"440.7065569871829\" opacity=\"0.6\" d=\"M -11386.136210047833,19566.781100648892 L -3964.6890904952706,18203.914057605547 L -8683.928073671445,23296.442020137118 L -11386.136210047833,19566.781100648892 z\" /><path fill-rule=\"evenodd\" fill=\"#ff3333\" stroke=\"#555555\" stroke-width=\"440.7065569871829\" opacity=\"0.6\" d=\"M -3964.6890904952706,18203.914057605547 L -11386.136210047833,19566.781100648892 L -5198.994505071077,14111.188606023383 L -3964.6890904952706,18203.914057605547 z\" /><path fill-rule=\"evenodd\" fill=\"#ff3333\" stroke=\"#555555\" stroke-width=\"440.7065569871829\" opacity=\"0.6\" d=\"M -11386.136210047833,19566.781100648892 L -8683.928073671445,23296.442020137118 L -15066.21452421584,26430.486431546015 L -11386.136210047833,19566.781100648892 z\" /><path fill-rule=\"evenodd\" fill=\"#ff3333\" stroke=\"#555555\" stroke-width=\"440.7065569871829\" opacity=\"0.6\" d=\"M -14660.182082609132,4677.947276132275 L -11386.136210047833,19566.781100648892 L -15066.21452421584,26430.486431546015 L -14660.182082609132,4677.947276132275 z\" /><path fill-rule=\"evenodd\" fill=\"#ff3333\" stroke=\"#555555\" stroke-width=\"440.7065569871829\" opacity=\"0.6\" d=\"M -8803.452547776169,10329.543003646124 L -11386.136210047833,19566.781100648892 L -14660.182082609132,4677.947276132275 L -8803.452547776169,10329.543003646124 z\" /><path fill-rule=\"evenodd\" fill=\"#ff3333\" stroke=\"#555555\" stroke-width=\"440.7065569871829\" opacity=\"0.6\" d=\"M 6801.748686503076,7108.840354590638 L 9301.849049865199,4410.1299928612725 L 11774.32090065812,6843.654443673728 L 6801.748686503076,7108.840354590638 z\" /><path fill-rule=\"evenodd\" fill=\"#ff3333\" stroke=\"#555555\" stroke-width=\"440.7065569871829\" opacity=\"0.6\" d=\"M 9301.849049865199,4410.1299928612725 L 6801.748686503076,7108.840354590638 L 7556.203102110878,4106.767085830312 L 9301.849049865199,4410.1299928612725 z\" /><path fill-rule=\"evenodd\" fill=\"#ff3333\" stroke=\"#555555\" stroke-width=\"440.7065569871829\" opacity=\"0.6\" d=\"M 9301.849049865199,4410.1299928612725 L 12834.06059112478,4121.513703301645 L 11774.32090065812,6843.654443673728 L 9301.849049865199,4410.1299928612725 z\" /><path fill-rule=\"evenodd\" fill=\"#ff3333\" stroke=\"#555555\" stroke-width=\"440.7065569871829\" opacity=\"0.6\" d=\"M 12246.58006841576,1382.9965942318859 L 9301.849049865199,4410.1299928612725 L 10725.592086820008,779.4936903531096 L 12246.58006841576,1382.9965942318859 z\" /><path fill-rule=\"evenodd\" fill=\"#ff3333\" stroke=\"#555555\" stroke-width=\"440.7065569871829\" opacity=\"0.6\" d=\"M 9301.849049865199,4410.1299928612725 L 12246.58006841576,1382.9965942318859 L 12834.06059112478,4121.513703301645 L 9301.849049865199,4410.1299928612725 z\" /><path fill-rule=\"evenodd\" fill=\"#ff3333\" stroke=\"#555555\" stroke-width=\"440.7065569871829\" opacity=\"0.6\" d=\"M 10725.592086820008,779.4936903531096 L 9301.849049865199,4410.1299928612725 L 8333.28330964778,459.79200337720965 L 10725.592086820008,779.4936903531096 z\" /><path fill-rule=\"evenodd\" fill=\"#ff3333\" stroke=\"#555555\" stroke-width=\"440.7065569871829\" opacity=\"0.6\" d=\"M 9301.849049865199,4410.1299928612725 L 7556.203102110878,4106.767085830312 L 8333.28330964778,459.79200337720965 L 9301.849049865199,4410.1299928612725 z\" /><path fill-rule=\"evenodd\" fill=\"#ff3333\" stroke=\"#555555\" stroke-width=\"440.7065569871829\" opacity=\"0.6\" d=\"M 7378.999685100331,4102.17711337848 L 6801.748686503076,7108.840354590638 L 2502.541712652919,5337.474729263836 L 7378.999685100331,4102.17711337848 z\" /><path fill-rule=\"evenodd\" fill=\"#ff3333\" stroke=\"#555555\" stroke-width=\"440.7065569871829\" opacity=\"0.6\" d=\"M 6801.748686503076,7108.840354590638 L 7378.999685100331,4102.17711337848 L 7556.203102110878,4106.767085830312 L 6801.748686503076,7108.840354590638 z\" /><path fill-rule=\"evenodd\" fill=\"#ff3333\" stroke=\"#555555\" stroke-width=\"440.7065569871829\" opacity=\"0.6\" d=\"M 7378.999685100331,4102.17711337848 L 2502.541712652919,5337.474729263836 L 4054.396815534624,1436.8190104878604 L 7378.999685100331,4102.17711337848 z\" /><path fill-rule=\"evenodd\" fill=\"#ff3333\" stroke=\"#555555\" stroke-width=\"440.7065569871829\" opacity=\"0.6\" d=\"M 6424.185127465581,-399.1956778857981 L 7378.999685100331,4102.17711337848 L 4054.396815534624,1436.8190104878604 L 6424.185127465581,-399.1956778857981 z\" /><path fill-rule=\"evenodd\" fill=\"#ff3333\" stroke=\"#555555\" stroke-width=\"440.7065569871829\" opacity=\"0.6\" d=\"M 7556.203102110878,4106.767085830312 L 7378.999685100331,4102.17711337848 L 8333.28330964778,459.79200337720965 L 7556.203102110878,4106.767085830312 z\" /><path fill-rule=\"evenodd\" fill=\"#ff3333\" stroke=\"#555555\" stroke-width=\"440.7065569871829\" opacity=\"0.6\" d=\"M 7378.999685100331,4102.17711337848 L 6424.185127465581,-399.1956778857981 L 8333.28330964778,459.79200337720965 L 7378.999685100331,4102.17711337848 z\" /><path fill-rule=\"evenodd\" fill=\"#ff3333\" stroke=\"#555555\" stroke-width=\"440.7065569871829\" opacity=\"0.6\" d=\"M -1741.8934587311219,3507.197702186085 L -746.4716818391789,1397.048651848282 L -334.05018763525135,4956.68626315459 L -1741.8934587311219,3507.197702186085 z\" /><path fill-rule=\"evenodd\" fill=\"#ff3333\" stroke=\"#555555\" stroke-width=\"440.7065569871829\" opacity=\"0.6\" d=\"M -746.4716818391789,1397.048651848282 L -961.5674243716007,479.62223262739985 L 4054.396815534624,1436.8190104878604 L -746.4716818391789,1397.048651848282 z\" /><path fill-rule=\"evenodd\" fill=\"#ff3333\" stroke=\"#555555\" stroke-width=\"440.7065569871829\" opacity=\"0.6\" d=\"M -961.5674243716007,479.62223262739985 L -746.4716818391789,1397.048651848282 L -1799.451128319855,605.8753341196276 L -961.5674243716007,479.62223262739985 z\" /><path fill-rule=\"evenodd\" fill=\"#ff3333\" stroke=\"#555555\" stroke-width=\"440.7065569871829\" opacity=\"0.6\" d=\"M 2502.541712652919,5337.474729263836 L -746.4716818391789,1397.048651848282 L 4054.396815534624,1436.8190104878604 L 2502.541712652919,5337.474729263836 z\" /><path fill-rule=\"evenodd\" fill=\"#ff3333\" stroke=\"#555555\" stroke-width=\"440.7065569871829\" opacity=\"0.6\" d=\"M -334.05018763525135,4956.68626315459 L -746.4716818391789,1397.048651848282 L 2502.541712652919,5337.474729263836 L -334.05018763525135,4956.68626315459 z\" /><path fill-rule=\"evenodd\" fill=\"#ff3333\" stroke=\"#555555\" stroke-width=\"440.7065569871829\" opacity=\"0.6\" d=\"M -746.4716818391789,1397.048651848282 L -3277.572472271519,1497.7048021639425 L -1799.451128319855,605.8753341196276 L -746.4716818391789,1397.048651848282 z\" /><path fill-rule=\"evenodd\" fill=\"#ff3333\" stroke=\"#555555\" stroke-width=\"440.7065569871829\" opacity=\"0.6\" d=\"M -746.4716818391789,1397.048651848282 L -1741.8934587311219,3507.197702186085 L -3277.572472271519,1497.7048021639425 L -746.4716818391789,1397.048651848282 z\" /><path fill-rule=\"evenodd\" fill=\"#ff3333\" stroke=\"#555555\" stroke-width=\"440.7065569871829\" opacity=\"0.6\" d=\"M -1503.5472474350104,4605.241795007511 L -334.05018763525135,4956.68626315459 L -1859.174637997235,4764.582520800403 L -1503.5472474350104,4605.241795007511 z\" /><path fill-rule=\"evenodd\" fill=\"#ff3333\" stroke=\"#555555\" stroke-width=\"440.7065569871829\" opacity=\"0.6\" d=\"M -1741.8934587311219,3507.197702186085 L -1503.5472474350104,4605.241795007511 L -1859.174637997235,4764.582520800403 L -1741.8934587311219,3507.197702186085 z\" /><path fill-rule=\"evenodd\" fill=\"#ff3333\" stroke=\"#555555\" stroke-width=\"440.7065569871829\" opacity=\"0.6\" d=\"M -1503.5472474350104,4605.241795007511 L -1741.8934587311219,3507.197702186085 L -334.05018763525135,4956.68626315459 L -1503.5472474350104,4605.241795007511 z\" /></g></g></svg>"
      ],
      "text/plain": [
       "<shapely.geometry.multipolygon.MultiPolygon at 0x124609c88>"
      ]
     },
     "execution_count": 15,
     "metadata": {},
     "output_type": "execute_result"
    },
    {
     "data": {
      "text/markdown": [
       "    (delaunay * 10000)**50"
      ],
      "text/plain": [
       "<IPython.core.display.Markdown object>"
      ]
     },
     "metadata": {},
     "output_type": "display_data"
    }
   ],
   "source": [
    "    (delaunay * 10000)**50"
   ]
  }
 ],
 "metadata": {
  "kernelspec": {
   "display_name": "pidgy 3",
   "language": "python",
   "name": "pidgy"
  },
  "language_info": {
   "codemirror_mode": {
    "name": "ipython",
    "version": 3
   },
   "file_extension": ".py",
   "mimetype": "text/x-python",
   "name": "python",
   "nbconvert_exporter": "python",
   "pygments_lexer": "ipython3",
   "version": "3.7.3"
  }
 },
 "nbformat": 4,
 "nbformat_minor": 4
}
